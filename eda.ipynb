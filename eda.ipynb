{
 "cells": [
  {
   "cell_type": "markdown",
   "metadata": {},
   "source": [
    "## Import other Libraries"
   ]
  },
  {
   "cell_type": "code",
   "execution_count": 1,
   "metadata": {},
   "outputs": [],
   "source": [
    "import pandas as pd\n",
    "import numpy as np"
   ]
  },
  {
   "cell_type": "markdown",
   "metadata": {},
   "source": [
    "## Read in data"
   ]
  },
  {
   "cell_type": "code",
   "execution_count": 2,
   "metadata": {},
   "outputs": [],
   "source": [
    "top_25 = pd.read_csv('./processed_data_1/cleaned_building_permits&pop_top_25.csv')\n",
    "york = pd.read_csv('./processed_data_1/cleaned_building_permits&pop_york_region.csv')"
   ]
  },
  {
   "cell_type": "code",
   "execution_count": 3,
   "metadata": {},
   "outputs": [],
   "source": [
    "top_25.head();"
   ]
  },
  {
   "cell_type": "code",
   "execution_count": 4,
   "metadata": {},
   "outputs": [],
   "source": [
    "york.head();"
   ]
  },
  {
   "cell_type": "markdown",
   "metadata": {},
   "source": [
    "## Check General Information and Data Types"
   ]
  },
  {
   "cell_type": "code",
   "execution_count": 5,
   "metadata": {},
   "outputs": [
    {
     "name": "stdout",
     "output_type": "stream",
     "text": [
      "<class 'pandas.core.frame.DataFrame'>\n",
      "RangeIndex: 500 entries, 0 to 499\n",
      "Data columns (total 19 columns):\n",
      " #   Column                                Non-Null Count  Dtype  \n",
      "---  ------                                --------------  -----  \n",
      " 0   csd                                   500 non-null    object \n",
      " 1   province_or_territory                 500 non-null    object \n",
      " 2   year                                  500 non-null    int64  \n",
      " 3   value_nonresidential_commercial       500 non-null    float64\n",
      " 4   value_nonresidential_industrial       500 non-null    float64\n",
      " 5   value_nonresidential_institutional    500 non-null    float64\n",
      " 6   value_residential_single_single       500 non-null    float64\n",
      " 7   value_residential_single_mobile       500 non-null    float64\n",
      " 8   value_residential_single_cottage      500 non-null    float64\n",
      " 9   value_residential_multiple_double     500 non-null    float64\n",
      " 10  value_residential_multiple_row        500 non-null    float64\n",
      " 11  value_residential_multiple_apartment  500 non-null    float64\n",
      " 12  units_residential_single_single       500 non-null    int64  \n",
      " 13  units_residential_single_mobile       500 non-null    int64  \n",
      " 14  units_residential_single_cottage      500 non-null    int64  \n",
      " 15  units_residential_multiple_double     500 non-null    int64  \n",
      " 16  units_residential_multiple_row        500 non-null    int64  \n",
      " 17  units_residential_multiple_apartment  500 non-null    int64  \n",
      " 18  population                            500 non-null    int64  \n",
      "dtypes: float64(9), int64(8), object(2)\n",
      "memory usage: 74.3+ KB\n"
     ]
    }
   ],
   "source": [
    "top_25.info()"
   ]
  },
  {
   "cell_type": "code",
   "execution_count": 6,
   "metadata": {},
   "outputs": [
    {
     "name": "stdout",
     "output_type": "stream",
     "text": [
      "<class 'pandas.core.frame.DataFrame'>\n",
      "RangeIndex: 140 entries, 0 to 139\n",
      "Data columns (total 19 columns):\n",
      " #   Column                                Non-Null Count  Dtype  \n",
      "---  ------                                --------------  -----  \n",
      " 0   csd                                   140 non-null    object \n",
      " 1   province_or_territory                 140 non-null    object \n",
      " 2   year                                  140 non-null    int64  \n",
      " 3   value_nonresidential_commercial       140 non-null    float64\n",
      " 4   value_nonresidential_industrial       140 non-null    float64\n",
      " 5   value_nonresidential_institutional    140 non-null    float64\n",
      " 6   value_residential_single_single       140 non-null    float64\n",
      " 7   value_residential_single_mobile       140 non-null    float64\n",
      " 8   value_residential_single_cottage      140 non-null    float64\n",
      " 9   value_residential_multiple_double     140 non-null    float64\n",
      " 10  value_residential_multiple_row        140 non-null    float64\n",
      " 11  value_residential_multiple_apartment  140 non-null    float64\n",
      " 12  units_residential_single_single       140 non-null    int64  \n",
      " 13  units_residential_single_mobile       140 non-null    int64  \n",
      " 14  units_residential_single_cottage      140 non-null    int64  \n",
      " 15  units_residential_multiple_double     140 non-null    int64  \n",
      " 16  units_residential_multiple_row        140 non-null    int64  \n",
      " 17  units_residential_multiple_apartment  140 non-null    int64  \n",
      " 18  population                            140 non-null    int64  \n",
      "dtypes: float64(9), int64(8), object(2)\n",
      "memory usage: 20.9+ KB\n"
     ]
    }
   ],
   "source": [
    "york.info()"
   ]
  },
  {
   "cell_type": "code",
   "execution_count": 7,
   "metadata": {},
   "outputs": [
    {
     "data": {
      "text/plain": [
       "(500, 19)"
      ]
     },
     "execution_count": 7,
     "metadata": {},
     "output_type": "execute_result"
    }
   ],
   "source": [
    "top_25.shape"
   ]
  },
  {
   "cell_type": "code",
   "execution_count": 8,
   "metadata": {},
   "outputs": [
    {
     "data": {
      "text/plain": [
       "(140, 19)"
      ]
     },
     "execution_count": 8,
     "metadata": {},
     "output_type": "execute_result"
    }
   ],
   "source": [
    "york.shape"
   ]
  },
  {
   "cell_type": "code",
   "execution_count": 9,
   "metadata": {},
   "outputs": [],
   "source": [
    "top_25.describe().T;"
   ]
  },
  {
   "cell_type": "code",
   "execution_count": 10,
   "metadata": {
    "scrolled": true
   },
   "outputs": [],
   "source": [
    "york.describe().T;"
   ]
  },
  {
   "cell_type": "markdown",
   "metadata": {},
   "source": [
    "## Feature Engineering"
   ]
  },
  {
   "cell_type": "markdown",
   "metadata": {},
   "source": [
    "### Generate totol unit and value"
   ]
  },
  {
   "cell_type": "code",
   "execution_count": 11,
   "metadata": {},
   "outputs": [],
   "source": [
    "def generate_sum(df):\n",
    "    val_cols = [i for i in list(df.columns) if i.startswith('value')]\n",
    "    unit_cols = [i for i in list(df.columns) if i.startswith('units')]\n",
    "    val_sum_res_cols = [i for i in list(df.columns) if i.startswith('value_residential')]\n",
    "    val_sum_nonres_cols = [i for i in list(df.columns) if i.startswith('value_nonresidential')]\n",
    "    \n",
    "    df['val_sum'] = df[val_cols].sum(axis=1)\n",
    "    \n",
    "    df['val_sum_res'] = df[val_sum_res_cols].sum(axis=1)\n",
    "    df['val_sum_nonres'] = df[val_sum_nonres_cols].sum(axis=1)\n",
    "    \n",
    "    # For units, the data source only provides number of units for residential\n",
    "    df['unit_sum_res'] = df[unit_cols].sum(axis=1)\n",
    "    return df"
   ]
  },
  {
   "cell_type": "code",
   "execution_count": 12,
   "metadata": {
    "scrolled": true
   },
   "outputs": [],
   "source": [
    "generate_sum(top_25)\n",
    "generate_sum(york);"
   ]
  },
  {
   "cell_type": "markdown",
   "metadata": {},
   "source": [
    "### Generate unit and value per capita"
   ]
  },
  {
   "cell_type": "code",
   "execution_count": 13,
   "metadata": {},
   "outputs": [],
   "source": [
    "def generate_pc(df):\n",
    "    cols = [i for i in list(df.columns) if i not in ['csd', 'province_or_territory', 'year', 'population']]\n",
    "    for col in cols:\n",
    "        df[f'pc_{col}'] = df[col] / df['population']\n",
    "    return df"
   ]
  },
  {
   "cell_type": "code",
   "execution_count": 14,
   "metadata": {
    "scrolled": true
   },
   "outputs": [],
   "source": [
    "generate_pc(top_25)\n",
    "generate_pc(york);"
   ]
  },
  {
   "cell_type": "markdown",
   "metadata": {},
   "source": [
    "### Generate percentage of each unit and value types"
   ]
  },
  {
   "cell_type": "code",
   "execution_count": 15,
   "metadata": {},
   "outputs": [],
   "source": [
    "def generate_percent_unit(df):\n",
    "    cols = [i for i in list(df.columns) if i.startswith('units')]\n",
    "    for col in cols:\n",
    "        df[f'percent_{col}'] = df[col] / df['unit_sum_res']\n",
    "    return df"
   ]
  },
  {
   "cell_type": "code",
   "execution_count": 16,
   "metadata": {},
   "outputs": [],
   "source": [
    "generate_percent_unit(top_25)\n",
    "generate_percent_unit(york);"
   ]
  },
  {
   "cell_type": "code",
   "execution_count": 17,
   "metadata": {},
   "outputs": [],
   "source": [
    "# # Check if percentages add up to 100%\n",
    "# percent_units_cols = [i for i in list(top_25.columns) if i.startswith('percent_units')]\n",
    "# top_25['sum'] = top_25[percent_units_cols].sum(axis=1)\n",
    "# pd.set_option('display.max_rows', 500)\n",
    "# top_25[top_25['sum'] != 1.0]"
   ]
  },
  {
   "cell_type": "code",
   "execution_count": 18,
   "metadata": {},
   "outputs": [],
   "source": [
    "def generate_percent_value(df):\n",
    "    cols = [i for i in list(df.columns) if i.startswith('value')]\n",
    "    for col in cols:\n",
    "        df[f'percent_{col}'] = df[col] / df['val_sum']\n",
    "    return df"
   ]
  },
  {
   "cell_type": "code",
   "execution_count": 19,
   "metadata": {},
   "outputs": [],
   "source": [
    "generate_percent_value(top_25)\n",
    "generate_percent_value(york);"
   ]
  },
  {
   "cell_type": "code",
   "execution_count": 20,
   "metadata": {},
   "outputs": [],
   "source": [
    "# # Check if percentages add up to 100%\n",
    "# percent_val_cols = [i for i in list(top_25.columns) if i.startswith('percent_value')]\n",
    "# top_25['sum'] = top_25[percent_val_cols].sum(axis=1)\n",
    "# pd.set_option('display.max_rows', 500)\n",
    "# top_25[top_25['sum'] != 1.0]"
   ]
  },
  {
   "cell_type": "markdown",
   "metadata": {},
   "source": [
    "### Generate rolling sum and avg"
   ]
  },
  {
   "cell_type": "markdown",
   "metadata": {},
   "source": [
    "#### Top 25"
   ]
  },
  {
   "cell_type": "code",
   "execution_count": 21,
   "metadata": {},
   "outputs": [],
   "source": [
    "# Reference: https://stackoverflow.com/questions/53339021/python-pandas-calculate-moving-average-within-group\n",
    "top_25['rolling_avg_val'] = top_25.groupby('csd').rolling(3)['val_sum'].mean().reset_index(drop=True)"
   ]
  },
  {
   "cell_type": "code",
   "execution_count": 22,
   "metadata": {},
   "outputs": [],
   "source": [
    "top_25['rolling_sum_val'] = top_25.groupby('csd').rolling(3)['val_sum'].sum().reset_index(drop=True)"
   ]
  },
  {
   "cell_type": "code",
   "execution_count": 23,
   "metadata": {},
   "outputs": [],
   "source": [
    "top_25['rolling_avg_unit'] = top_25.groupby('csd').rolling(3)['unit_sum_res'].mean().reset_index(drop=True)"
   ]
  },
  {
   "cell_type": "code",
   "execution_count": 24,
   "metadata": {},
   "outputs": [],
   "source": [
    "top_25['rolling_sum_unit'] = top_25.groupby('csd').rolling(3)['unit_sum_res'].sum().reset_index(drop=True)"
   ]
  },
  {
   "cell_type": "code",
   "execution_count": 25,
   "metadata": {
    "scrolled": true
   },
   "outputs": [],
   "source": [
    "# pd.set_option('display.max_rows', 500)\n",
    "# top_25.head(25).T"
   ]
  },
  {
   "cell_type": "markdown",
   "metadata": {},
   "source": [
    "#### York region"
   ]
  },
  {
   "cell_type": "code",
   "execution_count": 26,
   "metadata": {},
   "outputs": [],
   "source": [
    "# Reference: https://stackoverflow.com/questions/53339021/python-pandas-calculate-moving-average-within-group\n",
    "york['rolling_avg_val'] = york.groupby('csd').rolling(3)['val_sum'].mean().reset_index(drop=True)"
   ]
  },
  {
   "cell_type": "code",
   "execution_count": 27,
   "metadata": {},
   "outputs": [],
   "source": [
    "york['rolling_sum_val'] = york.groupby('csd').rolling(3)['val_sum'].sum().reset_index(drop=True)"
   ]
  },
  {
   "cell_type": "code",
   "execution_count": 28,
   "metadata": {},
   "outputs": [],
   "source": [
    "york['rolling_avg_unit'] = york.groupby('csd').rolling(3)['unit_sum_res'].mean().reset_index(drop=True)"
   ]
  },
  {
   "cell_type": "code",
   "execution_count": 29,
   "metadata": {},
   "outputs": [],
   "source": [
    "york['rolling_sum_unit'] = york.groupby('csd').rolling(3)['unit_sum_res'].sum().reset_index(drop=True)"
   ]
  },
  {
   "cell_type": "code",
   "execution_count": 30,
   "metadata": {},
   "outputs": [],
   "source": [
    "# york.head(25)"
   ]
  },
  {
   "cell_type": "markdown",
   "metadata": {},
   "source": [
    "## Export as csv"
   ]
  },
  {
   "cell_type": "code",
   "execution_count": 31,
   "metadata": {},
   "outputs": [],
   "source": [
    "# top_25.to_csv(\"eda_top_25.csv\", index=False)\n",
    "# york.to_csv(\"eda_york.csv\", index=False)"
   ]
  }
 ],
 "metadata": {
  "kernelspec": {
   "display_name": "Python 3",
   "language": "python",
   "name": "python3"
  },
  "language_info": {
   "codemirror_mode": {
    "name": "ipython",
    "version": 3
   },
   "file_extension": ".py",
   "mimetype": "text/x-python",
   "name": "python",
   "nbconvert_exporter": "python",
   "pygments_lexer": "ipython3",
   "version": "3.7.6"
  },
  "toc": {
   "base_numbering": 1,
   "nav_menu": {},
   "number_sections": true,
   "sideBar": true,
   "skip_h1_title": false,
   "title_cell": "Table of Contents",
   "title_sidebar": "Contents",
   "toc_cell": false,
   "toc_position": {},
   "toc_section_display": true,
   "toc_window_display": false
  }
 },
 "nbformat": 4,
 "nbformat_minor": 4
}
